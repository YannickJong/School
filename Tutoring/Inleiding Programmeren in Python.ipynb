{
 "cells": [
  {
   "cell_type": "markdown",
   "source": [
    "# Waarom programmeren? En waarom in Python? (2 min)"
   ],
   "metadata": {
    "collapsed": false
   },
   "id": "d0997a7b78120ddf"
  },
  {
   "cell_type": "markdown",
   "source": [
    "Python is een programmeertaal die in de laatste jaren enorm aan populariteit heeft gewonnen. Het is een taal die makkelijk te leren is en waarin je snel resultaat ziet. Python wordt gebruikt in veel verschillende vakgebieden, zoals data science, machine learning, web development, etc. Het is een taal die je dus in veel verschillende situaties kunt gebruiken. Daarnaast is Python een taal die veel gebruikt wordt in het onderwijs. Dit komt omdat Python een taal is die makkelijk te leren is en waarin je snel resultaat ziet. Dit is een groot voordeel ten opzichte van andere programmeertalen.\n",
    "\n",
    "In Natuurkunde wordt Python gebruikt om numerieke berekeningen uit te voeren, data te analyseren en om simulaties te maken."
   ],
   "metadata": {
    "collapsed": false
   },
   "id": "20d9ad8f55c5c6da"
  },
  {
   "cell_type": "code",
   "execution_count": 1,
   "outputs": [
    {
     "name": "stdout",
     "output_type": "stream",
     "text": [
      "Numerical result: 0.7468241328124271\n",
      "Estimate of error: 8.291413475940725e-15\n"
     ]
    }
   ],
   "source": [
    "from scipy.integrate import quad\n",
    "import numpy as np\n",
    "\n",
    "# Define the integrand\n",
    "def integrand(x):\n",
    "    return np.exp(-x**2)\n",
    "\n",
    "# Numerically evaluate the integral\n",
    "result, error = quad(integrand, 0, 1)\n",
    "\n",
    "print(f\"Numerical result: {result}\")\n",
    "print(f\"Estimate of error: {error}\")"
   ],
   "metadata": {
    "collapsed": false,
    "ExecuteTime": {
     "end_time": "2023-12-20T10:51:53.035686500Z",
     "start_time": "2023-12-20T10:51:52.529229800Z"
    }
   },
   "id": "535ad926e81b3472"
  },
  {
   "cell_type": "markdown",
   "source": [
    "# Print statement (1 min)"
   ],
   "metadata": {
    "collapsed": false
   },
   "id": "e15cb55047f71113"
  },
  {
   "cell_type": "code",
   "execution_count": 2,
   "outputs": [
    {
     "name": "stdout",
     "output_type": "stream",
     "text": [
      "Hello World\n"
     ]
    }
   ],
   "source": [
    "print(\"Hello World\")"
   ],
   "metadata": {
    "collapsed": false,
    "ExecuteTime": {
     "end_time": "2023-12-20T10:51:53.035686500Z",
     "start_time": "2023-12-20T10:51:52.872288900Z"
    }
   },
   "id": "ee89f9b98377b37c"
  },
  {
   "cell_type": "markdown",
   "source": [
    "# Variabelen (3 min)"
   ],
   "metadata": {
    "collapsed": false
   },
   "id": "e7f8bd847e3446a1"
  },
  {
   "cell_type": "code",
   "execution_count": 3,
   "outputs": [
    {
     "name": "stdout",
     "output_type": "stream",
     "text": [
      "Hello World\n"
     ]
    }
   ],
   "source": [
    "message = \"Hello World\"\n",
    "print(message)"
   ],
   "metadata": {
    "collapsed": false,
    "ExecuteTime": {
     "end_time": "2023-12-20T10:51:53.036189400Z",
     "start_time": "2023-12-20T10:51:52.887870400Z"
    }
   },
   "id": "246caa4496f99cd7"
  },
  {
   "cell_type": "markdown",
   "source": [],
   "metadata": {
    "collapsed": false
   },
   "id": "32c2d76ffe1d52ba"
  },
  {
   "cell_type": "code",
   "execution_count": 4,
   "outputs": [
    {
     "name": "stdout",
     "output_type": "stream",
     "text": [
      "Hello World\n",
      "Hello!\n"
     ]
    }
   ],
   "source": [
    "message = \"Hello World\"\n",
    "print(message)\n",
    "message = \"Hello!\"\n",
    "print(message)"
   ],
   "metadata": {
    "collapsed": false,
    "ExecuteTime": {
     "end_time": "2023-12-20T10:51:53.036189400Z",
     "start_time": "2023-12-20T10:51:52.903956600Z"
    }
   },
   "id": "a17c715527b1a2cf"
  },
  {
   "cell_type": "code",
   "execution_count": 5,
   "outputs": [
    {
     "ename": "NameError",
     "evalue": "name 'mesage' is not defined",
     "output_type": "error",
     "traceback": [
      "\u001B[1;31m---------------------------------------------------------------------------\u001B[0m",
      "\u001B[1;31mNameError\u001B[0m                                 Traceback (most recent call last)",
      "\u001B[1;32m<ipython-input-5-4597362f02d5>\u001B[0m in \u001B[0;36m<module>\u001B[1;34m\u001B[0m\n\u001B[0;32m      1\u001B[0m \u001B[0mmessage\u001B[0m \u001B[1;33m=\u001B[0m \u001B[1;34m\"Hello World\"\u001B[0m\u001B[1;33m\u001B[0m\u001B[1;33m\u001B[0m\u001B[0m\n\u001B[1;32m----> 2\u001B[1;33m \u001B[0mprint\u001B[0m\u001B[1;33m(\u001B[0m\u001B[0mmesage\u001B[0m\u001B[1;33m)\u001B[0m\u001B[1;33m\u001B[0m\u001B[1;33m\u001B[0m\u001B[0m\n\u001B[0m",
      "\u001B[1;31mNameError\u001B[0m: name 'mesage' is not defined"
     ]
    }
   ],
   "source": [
    "message = \"Hello World\"\n",
    "print(mesage)"
   ],
   "metadata": {
    "collapsed": false,
    "ExecuteTime": {
     "end_time": "2023-12-20T10:51:53.204136800Z",
     "start_time": "2023-12-20T10:51:52.918537700Z"
    }
   },
   "id": "2e731db8b09325ed"
  },
  {
   "cell_type": "markdown",
   "source": [
    "Maak opdracht 2-1 (2 min)"
   ],
   "metadata": {
    "collapsed": false
   },
   "id": "4175dc2e83b477fa"
  },
  {
   "cell_type": "markdown",
   "source": [
    "# Dataypes (4 min)"
   ],
   "metadata": {
    "collapsed": false
   },
   "id": "3afd26413e7b4e21"
  },
  {
   "cell_type": "code",
   "execution_count": null,
   "outputs": [],
   "source": [
    "message = \"Hello World\"\n",
    "print(type(message))"
   ],
   "metadata": {
    "collapsed": false,
    "ExecuteTime": {
     "start_time": "2023-12-20T10:51:53.200617Z"
    }
   },
   "id": "9b8a7ae01ea17816"
  },
  {
   "cell_type": "code",
   "execution_count": null,
   "outputs": [],
   "source": [
    "a = 1\n",
    "print(type(a))"
   ],
   "metadata": {
    "collapsed": false,
    "ExecuteTime": {
     "start_time": "2023-12-20T10:51:53.202125800Z"
    }
   },
   "id": "c2d14177cef62288"
  },
  {
   "cell_type": "code",
   "execution_count": null,
   "outputs": [],
   "source": [
    "b = 1.0\n",
    "print(type(b))"
   ],
   "metadata": {
    "collapsed": false,
    "ExecuteTime": {
     "start_time": "2023-12-20T10:51:53.204136800Z"
    }
   },
   "id": "5aae8d9ba7c4a9f7"
  },
  {
   "cell_type": "markdown",
   "source": [
    "Welk datatype is 'True'?"
   ],
   "metadata": {
    "collapsed": false
   },
   "id": "b362bcd59b6a7d96"
  },
  {
   "cell_type": "code",
   "execution_count": null,
   "outputs": [],
   "source": [
    "c = True\n",
    "print(type(c))"
   ],
   "metadata": {
    "collapsed": false,
    "ExecuteTime": {
     "start_time": "2023-12-20T10:51:53.206147600Z"
    }
   },
   "id": "1d071e09a7b6c159"
  },
  {
   "cell_type": "markdown",
   "source": [
    "# f strings (1 min)"
   ],
   "metadata": {
    "collapsed": false
   },
   "id": "9fd7576388eee3bb"
  },
  {
   "cell_type": "code",
   "execution_count": null,
   "outputs": [],
   "source": [
    "name = \"Yannick\"\n",
    "print(f\"Hello {name}\")"
   ],
   "metadata": {
    "collapsed": false,
    "ExecuteTime": {
     "start_time": "2023-12-20T10:51:53.208159100Z"
    }
   },
   "id": "1435d330c86207a0"
  },
  {
   "cell_type": "markdown",
   "source": [
    "# Getalletjes (10 min)"
   ],
   "metadata": {
    "collapsed": false
   },
   "id": "b85141bc383a480d"
  },
  {
   "cell_type": "markdown",
   "source": [
    "Integers"
   ],
   "metadata": {
    "collapsed": false
   },
   "id": "db36b02f1b31092b"
  },
  {
   "cell_type": "code",
   "execution_count": null,
   "outputs": [],
   "source": [
    "a = 3\n",
    "b = 2\n",
    "print(a + b)\n",
    "print(a - b)\n",
    "print(a * b)\n",
    "print(a / b)"
   ],
   "metadata": {
    "collapsed": false,
    "ExecuteTime": {
     "start_time": "2023-12-20T10:51:53.209668Z"
    }
   },
   "id": "fb26cfa646acfb7e"
  },
  {
   "cell_type": "code",
   "execution_count": null,
   "outputs": [],
   "source": [
    "print(a + a ** b)\n",
    "print((a + a) ** b)"
   ],
   "metadata": {
    "collapsed": false,
    "ExecuteTime": {
     "end_time": "2023-12-20T10:51:53.214695400Z",
     "start_time": "2023-12-20T10:51:53.211679400Z"
    }
   },
   "id": "ff7ca098dab1e88b"
  },
  {
   "cell_type": "markdown",
   "source": [
    "Floats"
   ],
   "metadata": {
    "collapsed": false
   },
   "id": "7d7c8adbd02006a9"
  },
  {
   "cell_type": "code",
   "execution_count": null,
   "outputs": [],
   "source": [
    "print(0.1 + 0.1)"
   ],
   "metadata": {
    "collapsed": false,
    "ExecuteTime": {
     "start_time": "2023-12-20T10:51:53.213187400Z"
    }
   },
   "id": "2015f3993486708a"
  },
  {
   "cell_type": "code",
   "execution_count": null,
   "outputs": [],
   "source": [
    "print(0.1 + 0.2)"
   ],
   "metadata": {
    "collapsed": false,
    "ExecuteTime": {
     "end_time": "2023-12-20T10:51:53.215700800Z",
     "start_time": "2023-12-20T10:51:53.214695400Z"
    }
   },
   "id": "298d01a50856a73"
  },
  {
   "cell_type": "markdown",
   "source": [
    "Dit gebeurt omdat de computer niet alle getallen exact kan opslaan. Dit komt omdat de computer getallen opslaat in het binair stelsel. Dit is een stelsel met alleen maar nullen en enen. In het decimale stelsel is 1/10 een periodiek getal. Dit betekent dat het getal niet exact kan worden opgeslagen in het geheugen van de computer. Dit is ook het geval voor 1/3 in het decimale stelsel."
   ],
   "metadata": {
    "collapsed": false
   },
   "id": "beb755aff8ec39c0"
  },
  {
   "cell_type": "markdown",
   "source": [
    "## Opdracht\n",
    "Je laat een baksteen van de Empire state building (381 m) af vallen. Bereken de positie en snelheid van de baksteen na 5 seconden. Verwaarloos de luchtweerstand. Gebruik Python bij het maken van je berekeningen en geef al je variabelen een naam en waarde. Bijvoorbeeld: g=9.81, en gebruik de volgende formules:\n",
    "$$ y = y_0 + y_0 t + \\frac{1}{2} a t^2 $$\n",
    "$$ v_y = v_{y0} + a t $$"
   ],
   "metadata": {
    "collapsed": false
   },
   "id": "e55fb42c8538f57c"
  },
  {
   "cell_type": "code",
   "execution_count": null,
   "outputs": [],
   "source": [
    "y0 = 381\n",
    "t = 5\n",
    "g = 9.81\n",
    "ay = -g\n",
    "vy0 = 0\n",
    "\n",
    "y = y0 + vy0 * t + 0.5 * ay * t ** 2\n",
    "vy = vy0 + ay * t\n",
    "print(f\"y = {y} m\\nvy = {vy} m/s\")"
   ],
   "metadata": {
    "collapsed": false,
    "ExecuteTime": {
     "start_time": "2023-12-20T10:51:53.216706200Z"
    }
   },
   "id": "f1e2385956859800"
  },
  {
   "cell_type": "markdown",
   "source": [
    "# Lists (6 min)"
   ],
   "metadata": {
    "collapsed": false
   },
   "id": "8e5667e51aa56aad"
  },
  {
   "cell_type": "code",
   "execution_count": null,
   "outputs": [],
   "source": [
    "a = [1, 2, 3]\n",
    "b = ['a', 'b', 'c']\n",
    "print(a, b)"
   ],
   "metadata": {
    "collapsed": false,
    "ExecuteTime": {
     "start_time": "2023-12-20T10:51:53.218214900Z"
    }
   },
   "id": "99603e8ba2c023ed"
  },
  {
   "cell_type": "code",
   "execution_count": null,
   "outputs": [],
   "source": [
    "print(a[1])\n",
    "# Hoeveelste index is de laatste waarde in mijn lijst?"
   ],
   "metadata": {
    "collapsed": false,
    "ExecuteTime": {
     "start_time": "2023-12-20T10:51:53.220226400Z"
    }
   },
   "id": "2be1abb966d7753a"
  },
  {
   "cell_type": "code",
   "execution_count": null,
   "outputs": [],
   "source": [
    "print(a[-1])"
   ],
   "metadata": {
    "collapsed": false,
    "ExecuteTime": {
     "start_time": "2023-12-20T10:51:53.221734400Z"
    }
   },
   "id": "e1df0a9728d4db26"
  },
  {
   "cell_type": "code",
   "execution_count": null,
   "outputs": [],
   "source": [
    "print(a[0:2])"
   ],
   "metadata": {
    "collapsed": false,
    "ExecuteTime": {
     "end_time": "2023-12-20T10:51:53.289641600Z",
     "start_time": "2023-12-20T10:51:53.223745500Z"
    }
   },
   "id": "87339d1ca7e822cb"
  },
  {
   "cell_type": "code",
   "execution_count": null,
   "outputs": [],
   "source": [
    "print(a[1:])"
   ],
   "metadata": {
    "collapsed": false,
    "ExecuteTime": {
     "start_time": "2023-12-20T10:51:53.225756900Z"
    }
   },
   "id": "e2baf6d996a3977e"
  },
  {
   "cell_type": "code",
   "execution_count": null,
   "outputs": [],
   "source": [
    "a.append(4)\n",
    "print(a)"
   ],
   "metadata": {
    "collapsed": false,
    "ExecuteTime": {
     "start_time": "2023-12-20T10:51:53.227770Z"
    }
   },
   "id": "40b30a7395eca3cd"
  },
  {
   "cell_type": "code",
   "execution_count": null,
   "outputs": [],
   "source": [
    "print(len(b))"
   ],
   "metadata": {
    "collapsed": false,
    "ExecuteTime": {
     "start_time": "2023-12-20T10:51:53.229278200Z"
    }
   },
   "id": "59a3f3558372eb20"
  },
  {
   "cell_type": "code",
   "execution_count": null,
   "outputs": [],
   "source": [
    "print(a[4])"
   ],
   "metadata": {
    "collapsed": false,
    "ExecuteTime": {
     "start_time": "2023-12-20T10:51:53.230283500Z"
    }
   },
   "id": "4a71cd5e2aed8ff2"
  },
  {
   "cell_type": "markdown",
   "source": [
    "# Loops (10 min)"
   ],
   "metadata": {
    "collapsed": false
   },
   "id": "dc3c48bdbb477c33"
  },
  {
   "cell_type": "code",
   "execution_count": null,
   "outputs": [],
   "source": [
    "physicists = [\"Newton\", \"Einstein\", \"Feynman\", \"Dirac\"]\n",
    "for physicist in physicists:\n",
    "    print(physicist)"
   ],
   "metadata": {
    "collapsed": false,
    "ExecuteTime": {
     "start_time": "2023-12-20T10:51:53.231791400Z"
    }
   },
   "id": "a2b8ef465a00b5a2"
  },
  {
   "cell_type": "code",
   "execution_count": null,
   "outputs": [],
   "source": [
    "for value in range(1, 5):\n",
    "    # Range functie begint bij de eerste waarde en eindigt bij de laatste waarde - 1, standaard begint hij bij 0\n",
    "    print(value)"
   ],
   "metadata": {
    "collapsed": false,
    "ExecuteTime": {
     "start_time": "2023-12-20T10:51:53.232796300Z"
    }
   },
   "id": "a1ad53a4a4771fd"
  },
  {
   "cell_type": "code",
   "execution_count": null,
   "outputs": [],
   "source": [
    "for value in range(10):\n",
    "    print(value)"
   ],
   "metadata": {
    "collapsed": false,
    "ExecuteTime": {
     "start_time": "2023-12-20T10:51:53.233801100Z"
    }
   },
   "id": "602347eb9fc4089"
  },
  {
   "cell_type": "code",
   "execution_count": null,
   "outputs": [],
   "source": [
    "for value in range(1, 11, 2):\n",
    "    print(value)"
   ],
   "metadata": {
    "collapsed": false,
    "ExecuteTime": {
     "start_time": "2023-12-20T10:51:53.234806100Z"
    }
   },
   "id": "3395cd6ef7f734b"
  },
  {
   "cell_type": "code",
   "execution_count": null,
   "outputs": [],
   "source": [
    "squares = []\n",
    "for value in range(1, 11):\n",
    "    squares.append(value ** 2)\n",
    "\n",
    "print(squares)"
   ],
   "metadata": {
    "collapsed": false,
    "ExecuteTime": {
     "start_time": "2023-12-20T10:51:53.235811400Z"
    }
   },
   "id": "b94b93c8df045f06"
  },
  {
   "cell_type": "code",
   "execution_count": null,
   "outputs": [],
   "source": [
    "print(min(squares), max(squares), sum(squares))"
   ],
   "metadata": {
    "collapsed": false,
    "ExecuteTime": {
     "start_time": "2023-12-20T10:51:53.237320200Z"
    }
   },
   "id": "b7cff8ab43aadc02"
  },
  {
   "cell_type": "markdown",
   "source": [
    "## Opdracht\n",
    "Bereken de som van alle getallen van 0 tot en met 1000000. (Hint: Maak een lijst met behulp van een for loop van 1 tot en met 1000000.) "
   ],
   "metadata": {
    "collapsed": false
   },
   "id": "b0b03d12a726a522"
  },
  {
   "cell_type": "code",
   "execution_count": null,
   "outputs": [],
   "source": [
    "one_million = []\n",
    "for value in range(0, 1000001):\n",
    "    one_million.append(value)\n",
    "\n",
    "print(sum(one_million))"
   ],
   "metadata": {
    "collapsed": false,
    "ExecuteTime": {
     "start_time": "2023-12-20T10:51:53.238325500Z"
    }
   },
   "id": "5424db261d27a055"
  },
  {
   "cell_type": "markdown",
   "source": [
    "# List comprehension (2 min)"
   ],
   "metadata": {
    "collapsed": false
   },
   "id": "be610262daf6f8e9"
  },
  {
   "cell_type": "code",
   "execution_count": null,
   "outputs": [],
   "source": [
    "squares = [value ** 2 for value in range(1, 11)]\n",
    "print(squares)"
   ],
   "metadata": {
    "collapsed": false,
    "ExecuteTime": {
     "start_time": "2023-12-20T10:51:53.239330600Z"
    }
   },
   "id": "f66bae71e260f954"
  },
  {
   "cell_type": "code",
   "execution_count": null,
   "outputs": [],
   "source": [
    "sum_one_million = sum([value for value in range(1, 1000001)])\n",
    "print(sum_one_million)"
   ],
   "metadata": {
    "collapsed": false,
    "ExecuteTime": {
     "start_time": "2023-12-20T10:51:53.240335900Z"
    }
   },
   "id": "e67d08b7cc435156"
  },
  {
   "cell_type": "markdown",
   "source": [
    "# Packages (4 min)"
   ],
   "metadata": {
    "collapsed": false
   },
   "id": "7df528f8efc5ef6c"
  },
  {
   "cell_type": "markdown",
   "source": [
    "Packages zijn een verzameling van functies die je kunt gebruiken in je programma. Je kunt packages installeren met behulp van pip. Pip is een package manager voor Python. Je kunt pip gebruiken in de terminal. Je kunt pip gebruiken om packages te installeren, updaten en verwijderen. Je kunt ze importeren met de import functie."
   ],
   "metadata": {
    "collapsed": false
   },
   "id": "1d39f98fa2630115"
  },
  {
   "cell_type": "code",
   "execution_count": null,
   "outputs": [],
   "source": [
    "import numpy"
   ],
   "metadata": {
    "collapsed": false,
    "ExecuteTime": {
     "start_time": "2023-12-20T10:51:53.241341200Z"
    }
   },
   "id": "b8dda427fd2d7ad3"
  },
  {
   "cell_type": "code",
   "execution_count": null,
   "outputs": [],
   "source": [
    "print(numpy.pi)"
   ],
   "metadata": {
    "collapsed": false,
    "ExecuteTime": {
     "start_time": "2023-12-20T10:51:53.242346100Z"
    }
   },
   "id": "b79d3fe35c5ce954"
  },
  {
   "cell_type": "code",
   "execution_count": null,
   "outputs": [],
   "source": [
    "print(numpy.sin(numpy.pi / 2))"
   ],
   "metadata": {
    "collapsed": false,
    "ExecuteTime": {
     "start_time": "2023-12-20T10:51:53.243351700Z"
    }
   },
   "id": "836f30c76bfa27fc"
  },
  {
   "cell_type": "markdown",
   "source": [
    "Een aantal belangrijke packages voor ons als natuurkundigen zijn: numpy, scipy, matplotlib en pandas."
   ],
   "metadata": {
    "collapsed": false
   },
   "id": "11a5bbf81b11ec7f"
  },
  {
   "cell_type": "code",
   "execution_count": null,
   "outputs": [],
   "source": [
    "import matplotlib.pyplot as plt\n",
    "import numpy as np"
   ],
   "metadata": {
    "collapsed": false,
    "ExecuteTime": {
     "start_time": "2023-12-20T10:51:53.243854100Z"
    }
   },
   "id": "557cb4adcf929cc5"
  },
  {
   "cell_type": "code",
   "execution_count": null,
   "outputs": [],
   "source": [
    "x = np.linspace(0, 2 * np.pi, 100)\n",
    "y = np.sin(x)\n",
    "plt.plot(x, y)\n",
    "plt.show()"
   ],
   "metadata": {
    "collapsed": false,
    "ExecuteTime": {
     "start_time": "2023-12-20T10:51:53.244862500Z"
    }
   },
   "id": "15a693d42ff5ae57"
  },
  {
   "cell_type": "markdown",
   "source": [
    "# Opdracht\n",
    "Maak een plot van de functie $y = \\frac{1}{x}$ van -10 tot en met 10. Met 100 punten, 10000 punten en 1000000 punten. Wat valt je op?"
   ],
   "metadata": {
    "collapsed": false
   },
   "id": "bfdc16a69ee1d371"
  },
  {
   "cell_type": "code",
   "execution_count": null,
   "outputs": [],
   "source": [
    "x = np.linspace(-10, 10, 100)\n",
    "y = 1 / x\n",
    "plt.plot(x, y)\n",
    "plt.show()"
   ],
   "metadata": {
    "collapsed": false,
    "ExecuteTime": {
     "start_time": "2023-12-20T10:51:53.245870700Z"
    }
   },
   "id": "98ed4f790b2b550e"
  },
  {
   "cell_type": "code",
   "execution_count": null,
   "outputs": [],
   "source": [
    "x = np.linspace(-10, 10, 10000)\n",
    "y = 1 / x\n",
    "plt.plot(x, y)\n",
    "plt.show()"
   ],
   "metadata": {
    "collapsed": false,
    "ExecuteTime": {
     "start_time": "2023-12-20T10:51:53.246374500Z"
    }
   },
   "id": "554eea1b5412d37d"
  },
  {
   "cell_type": "code",
   "execution_count": null,
   "outputs": [],
   "source": [
    "x = np.linspace(-10, 10, 1000000)\n",
    "y = 1 / x\n",
    "plt.plot(x, y)\n",
    "plt.show()"
   ],
   "metadata": {
    "collapsed": false,
    "ExecuteTime": {
     "start_time": "2023-12-20T10:51:53.247381300Z"
    }
   },
   "id": "a5934da9206a98b4"
  },
  {
   "cell_type": "code",
   "execution_count": null,
   "outputs": [],
   "source": [],
   "metadata": {
    "collapsed": false,
    "ExecuteTime": {
     "start_time": "2023-12-20T10:51:53.248388100Z"
    }
   },
   "id": "dcfc1d039d812544"
  }
 ],
 "metadata": {
  "kernelspec": {
   "display_name": "Python 3",
   "language": "python",
   "name": "python3"
  },
  "language_info": {
   "codemirror_mode": {
    "name": "ipython",
    "version": 2
   },
   "file_extension": ".py",
   "mimetype": "text/x-python",
   "name": "python",
   "nbconvert_exporter": "python",
   "pygments_lexer": "ipython2",
   "version": "2.7.6"
  }
 },
 "nbformat": 4,
 "nbformat_minor": 5
}

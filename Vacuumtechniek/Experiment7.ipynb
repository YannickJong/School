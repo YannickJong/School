{
 "cells": [
  {
   "cell_type": "code",
   "execution_count": 1,
   "id": "initial_id",
   "metadata": {
    "collapsed": true,
    "ExecuteTime": {
     "end_time": "2023-12-11T17:38:59.987415600Z",
     "start_time": "2023-12-11T17:38:58.544236400Z"
    }
   },
   "outputs": [],
   "source": [
    "import numpy as np\n",
    "import pandas as pd\n",
    "import matplotlib.pyplot as plt\n",
    "from scipy.optimize import curve_fit"
   ]
  },
  {
   "cell_type": "code",
   "execution_count": 2,
   "outputs": [
    {
     "name": "stdout",
     "output_type": "stream",
     "text": [
      "    Druk lek (mbar)     t1      t2      t3      t4      t5  t6      t_a  \\\n",
      "0                30   6.33   5.199   5.232   5.099   5.232 NaN   5.4184   \n",
      "1                25   7.71   6.030   5.970   5.900     NaN NaN   6.4025   \n",
      "2                20  10.50   8.170   8.250   7.770   7.840 NaN   8.5060   \n",
      "3                15  11.91   9.700   9.510   9.480     NaN NaN  10.1500   \n",
      "4                10  18.71  16.550  16.350  16.470  16.070 NaN  16.8300   \n",
      "5                 5  29.63  25.860  25.350  25.420  26.180 NaN  26.4880   \n",
      "6               NaN    NaN     NaN     NaN     NaN     NaN NaN      NaN   \n",
      "7               NaN    NaN     NaN     NaN     NaN     NaN NaN      NaN   \n",
      "8   * met gasbalast    NaN     NaN     NaN     NaN     NaN NaN      NaN   \n",
      "9               NaN    NaN     NaN     NaN     NaN     NaN NaN      NaN   \n",
      "10              NaN    NaN     NaN     NaN     NaN     NaN NaN      NaN   \n",
      "11              NaN    NaN     NaN     NaN     NaN     NaN NaN      NaN   \n",
      "12              NaN    NaN     NaN     NaN     NaN     NaN NaN      NaN   \n",
      "13              NaN    NaN     NaN     NaN     NaN     NaN NaN      NaN   \n",
      "14              NaN    NaN     NaN     NaN     NaN     NaN NaN      NaN   \n",
      "15              NaN    NaN     NaN     NaN     NaN     NaN NaN      NaN   \n",
      "16              NaN    NaN     NaN     NaN     NaN     NaN NaN      NaN   \n",
      "17              NaN    NaN     NaN     NaN     NaN     NaN NaN      NaN   \n",
      "18              NaN    NaN     NaN     NaN     NaN     NaN NaN      NaN   \n",
      "19              NaN    NaN     NaN     NaN     NaN     NaN NaN      NaN   \n",
      "20              NaN    NaN     NaN     NaN     NaN     NaN NaN      NaN   \n",
      "21              NaN    NaN     NaN     NaN     NaN     NaN NaN      NaN   \n",
      "22              NaN    NaN     NaN     NaN     NaN     NaN NaN      NaN   \n",
      "23              NaN    NaN     NaN     NaN     NaN     NaN NaN      NaN   \n",
      "24              NaN    NaN     NaN     NaN     NaN     NaN NaN      NaN   \n",
      "25              NaN    NaN     NaN     NaN     NaN     NaN NaN      NaN   \n",
      "26              NaN    NaN     NaN     NaN     NaN     NaN NaN      NaN   \n",
      "27              NaN    NaN     NaN     NaN     NaN     NaN NaN      NaN   \n",
      "28              NaN    NaN     NaN     NaN     NaN     NaN NaN      NaN   \n",
      "29              NaN    NaN     NaN     NaN     NaN     NaN NaN      NaN   \n",
      "30              NaN    NaN     NaN     NaN     NaN     NaN NaN      NaN   \n",
      "31              NaN    NaN     NaN     NaN     NaN     NaN NaN      NaN   \n",
      "32              NaN    NaN     NaN     NaN     NaN     NaN NaN      NaN   \n",
      "33              NaN    NaN     NaN     NaN     NaN     NaN NaN      NaN   \n",
      "34              NaN    NaN     NaN     NaN     NaN     NaN NaN      NaN   \n",
      "35              NaN    NaN     NaN     NaN     NaN     NaN NaN      NaN   \n",
      "36              NaN    NaN     NaN     NaN     NaN     NaN NaN      NaN   \n",
      "37              NaN    NaN     NaN     NaN     NaN     NaN NaN      NaN   \n",
      "38              NaN    NaN     NaN     NaN     NaN     NaN NaN      NaN   \n",
      "39              NaN    NaN     NaN     NaN     NaN     NaN NaN      NaN   \n",
      "40              NaN    NaN     NaN     NaN     NaN     NaN NaN      NaN   \n",
      "41              NaN    NaN     NaN     NaN     NaN     NaN NaN      NaN   \n",
      "42              NaN    NaN     NaN     NaN     NaN     NaN NaN      NaN   \n",
      "43              NaN    NaN     NaN     NaN     NaN     NaN NaN      NaN   \n",
      "44              NaN    NaN     NaN     NaN     NaN     NaN NaN      NaN   \n",
      "45              NaN    NaN     NaN     NaN     NaN     NaN NaN      NaN   \n",
      "46              NaN    NaN     NaN     NaN     NaN     NaN NaN      NaN   \n",
      "47              NaN    NaN     NaN     NaN     NaN     NaN NaN      NaN   \n",
      "48              NaN    NaN     NaN     NaN     NaN     NaN NaN      NaN   \n",
      "49              NaN    NaN     NaN     NaN     NaN     NaN NaN      NaN   \n",
      "\n",
      "          da  Unnamed: 9  ...  Unnamed: 19  Geen gasbalast Wel lek    tvid3  \\\n",
      "0   0.512508         NaN  ...          NaN                   0.933    0.933   \n",
      "1   0.873284         NaN  ...          NaN                     NaN    1.130   \n",
      "2   1.133548         NaN  ...          NaN                     NaN    1.417   \n",
      "3   1.177370         NaN  ...          NaN                     NaN    1.747   \n",
      "4   1.066583         NaN  ...          NaN                     NaN    2.153   \n",
      "5   1.788650         NaN  ...          NaN                     NaN    2.653   \n",
      "6        NaN         NaN  ...          NaN                     NaN    3.270   \n",
      "7        NaN         NaN  ...          NaN                     NaN    4.031   \n",
      "8        NaN         NaN  ...          NaN                     NaN    4.968   \n",
      "9        NaN         NaN  ...          NaN                     NaN    6.123   \n",
      "10       NaN         NaN  ...          NaN                     NaN    7.547   \n",
      "11       NaN         NaN  ...          NaN                     NaN    9.301   \n",
      "12       NaN         NaN  ...          NaN                     NaN   11.464   \n",
      "13       NaN         NaN  ...          NaN                     NaN   14.129   \n",
      "14       NaN         NaN  ...          NaN                     NaN   17.414   \n",
      "15       NaN         NaN  ...          NaN                     NaN   21.463   \n",
      "16       NaN         NaN  ...          NaN                     NaN   26.453   \n",
      "17       NaN         NaN  ...          NaN                     NaN   32.603   \n",
      "18       NaN         NaN  ...          NaN                     NaN   40.184   \n",
      "19       NaN         NaN  ...          NaN                     NaN   49.526   \n",
      "20       NaN         NaN  ...          NaN                     NaN   61.041   \n",
      "21       NaN         NaN  ...          NaN                     NaN   75.234   \n",
      "22       NaN         NaN  ...          NaN                     NaN   92.725   \n",
      "23       NaN         NaN  ...          NaN                     NaN  114.284   \n",
      "24       NaN         NaN  ...          NaN                     NaN  140.855   \n",
      "25       NaN         NaN  ...          NaN                     NaN  173.604   \n",
      "26       NaN         NaN  ...          NaN                     NaN  213.967   \n",
      "27       NaN         NaN  ...          NaN                     NaN  263.715   \n",
      "28       NaN         NaN  ...          NaN                     NaN  325.029   \n",
      "29       NaN         NaN  ...          NaN                     NaN  400.598   \n",
      "30       NaN         NaN  ...          NaN                     NaN      NaN   \n",
      "31       NaN         NaN  ...          NaN                     NaN      NaN   \n",
      "32       NaN         NaN  ...          NaN                     NaN      NaN   \n",
      "33       NaN         NaN  ...          NaN                     NaN      NaN   \n",
      "34       NaN         NaN  ...          NaN                     NaN      NaN   \n",
      "35       NaN         NaN  ...          NaN                     NaN      NaN   \n",
      "36       NaN         NaN  ...          NaN                     NaN      NaN   \n",
      "37       NaN         NaN  ...          NaN                     NaN      NaN   \n",
      "38       NaN         NaN  ...          NaN                     NaN      NaN   \n",
      "39       NaN         NaN  ...          NaN                     NaN      NaN   \n",
      "40       NaN         NaN  ...          NaN                     NaN      NaN   \n",
      "41       NaN         NaN  ...          NaN                     NaN      NaN   \n",
      "42       NaN         NaN  ...          NaN                     NaN      NaN   \n",
      "43       NaN         NaN  ...          NaN                     NaN      NaN   \n",
      "44       NaN         NaN  ...          NaN                     NaN      NaN   \n",
      "45       NaN         NaN  ...          NaN                     NaN      NaN   \n",
      "46       NaN         NaN  ...          NaN                     NaN      NaN   \n",
      "47       NaN         NaN  ...          NaN                     NaN      NaN   \n",
      "48       NaN         NaN  ...          NaN                     NaN      NaN   \n",
      "49       NaN         NaN  ...          NaN                     NaN      NaN   \n",
      "\n",
      "    t_actual3    druk3  Unnamed: 24  Geen gasbalast Wel lek.1    tvid4  \\\n",
      "0       0.000  1000.20          NaN                     2.332    2.332   \n",
      "1       0.197   999.33          NaN                       NaN    2.782   \n",
      "2       0.484   992.69          NaN                       NaN    3.320   \n",
      "3       0.814   988.25          NaN                       NaN    3.961   \n",
      "4       1.220   978.58          NaN                       NaN    4.725   \n",
      "5       1.720   968.88          NaN                       NaN    5.638   \n",
      "6       2.337   949.72          NaN                       NaN    6.727   \n",
      "7       3.098   931.88          NaN                       NaN    8.026   \n",
      "8       4.035   912.83          NaN                       NaN    9.576   \n",
      "9       5.190   889.14          NaN                       NaN   11.425   \n",
      "10      6.614   863.41          NaN                       NaN   13.631   \n",
      "11      8.368   832.91          NaN                       NaN   16.263   \n",
      "12     10.531   799.22          NaN                       NaN   19.404   \n",
      "13     13.196   762.89          NaN                       NaN   23.151   \n",
      "14     16.481   721.86          NaN                       NaN   27.621   \n",
      "15     20.530   677.35          NaN                       NaN   32.955   \n",
      "16     25.520   628.70          NaN                       NaN   39.319   \n",
      "17     31.670   574.89          NaN                       NaN   46.912   \n",
      "18     39.251   518.33          NaN                       NaN   55.971   \n",
      "19     48.593   457.15          NaN                       NaN   66.779   \n",
      "20     60.108   393.79          NaN                       NaN   79.675   \n",
      "21     74.301   331.14          NaN                       NaN   95.061   \n",
      "22     91.792   271.76          NaN                       NaN  113.418   \n",
      "23    113.351   218.78          NaN                       NaN  135.319   \n",
      "24    139.922   175.38          NaN                       NaN  161.451   \n",
      "25    172.671   143.01          NaN                       NaN  192.628   \n",
      "26    213.034   121.48          NaN                       NaN  229.826   \n",
      "27    262.782   109.19          NaN                       NaN  274.207   \n",
      "28    324.096   103.24          NaN                       NaN  327.158   \n",
      "29    399.665   101.02          NaN                       NaN  390.335   \n",
      "30        NaN      NaN          NaN                       NaN      NaN   \n",
      "31        NaN      NaN          NaN                       NaN      NaN   \n",
      "32        NaN      NaN          NaN                       NaN      NaN   \n",
      "33        NaN      NaN          NaN                       NaN      NaN   \n",
      "34        NaN      NaN          NaN                       NaN      NaN   \n",
      "35        NaN      NaN          NaN                       NaN      NaN   \n",
      "36        NaN      NaN          NaN                       NaN      NaN   \n",
      "37        NaN      NaN          NaN                       NaN      NaN   \n",
      "38        NaN      NaN          NaN                       NaN      NaN   \n",
      "39        NaN      NaN          NaN                       NaN      NaN   \n",
      "40        NaN      NaN          NaN                       NaN      NaN   \n",
      "41        NaN      NaN          NaN                       NaN      NaN   \n",
      "42        NaN      NaN          NaN                       NaN      NaN   \n",
      "43        NaN      NaN          NaN                       NaN      NaN   \n",
      "44        NaN      NaN          NaN                       NaN      NaN   \n",
      "45        NaN      NaN          NaN                       NaN      NaN   \n",
      "46        NaN      NaN          NaN                       NaN      NaN   \n",
      "47        NaN      NaN          NaN                       NaN      NaN   \n",
      "48        NaN      NaN          NaN                       NaN      NaN   \n",
      "49        NaN      NaN          NaN                       NaN      NaN   \n",
      "\n",
      "    t_actual4    druk4  \n",
      "0       0.000  1000.20  \n",
      "1       0.450   999.87  \n",
      "2       0.988   982.69  \n",
      "3       1.629   969.50  \n",
      "4       2.393   952.29  \n",
      "5       3.306   931.59  \n",
      "6       4.395   911.96  \n",
      "7       5.694   887.86  \n",
      "8       7.244   860.25  \n",
      "9       9.093   830.29  \n",
      "10     11.299   797.34  \n",
      "11     13.931   763.58  \n",
      "12     17.072   725.93  \n",
      "13     20.819   685.55  \n",
      "14     25.289   642.38  \n",
      "15     30.623   595.37  \n",
      "16     36.987   544.59  \n",
      "17     44.580   490.88  \n",
      "18     53.639   435.55  \n",
      "19     64.447   378.92  \n",
      "20     77.343   324.09  \n",
      "21     92.729   272.22  \n",
      "22    111.086   225.78  \n",
      "23    132.987   186.45  \n",
      "24    159.119   155.10  \n",
      "25    190.296   132.26  \n",
      "26    227.494   117.07  \n",
      "27    271.875   108.09  \n",
      "28    324.826   103.42  \n",
      "29    388.003   101.40  \n",
      "30        NaN      NaN  \n",
      "31        NaN      NaN  \n",
      "32        NaN      NaN  \n",
      "33        NaN      NaN  \n",
      "34        NaN      NaN  \n",
      "35        NaN      NaN  \n",
      "36        NaN      NaN  \n",
      "37        NaN      NaN  \n",
      "38        NaN      NaN  \n",
      "39        NaN      NaN  \n",
      "40        NaN      NaN  \n",
      "41        NaN      NaN  \n",
      "42        NaN      NaN  \n",
      "43        NaN      NaN  \n",
      "44        NaN      NaN  \n",
      "45        NaN      NaN  \n",
      "46        NaN      NaN  \n",
      "47        NaN      NaN  \n",
      "48        NaN      NaN  \n",
      "49        NaN      NaN  \n",
      "\n",
      "[50 rows x 29 columns]\n"
     ]
    }
   ],
   "source": [
    "# Importing the dataset\n",
    "dataset = pd.read_excel('Proef7 metingen.xlsx')\n",
    "print(dataset)"
   ],
   "metadata": {
    "collapsed": false,
    "ExecuteTime": {
     "end_time": "2023-12-11T17:39:01.145991700Z",
     "start_time": "2023-12-11T17:39:01.078558400Z"
    }
   },
   "id": "5a4bbbab564a2c7e"
  },
  {
   "cell_type": "code",
   "execution_count": 3,
   "outputs": [],
   "source": [
    "dataset = dataset.to_dict()"
   ],
   "metadata": {
    "collapsed": false,
    "ExecuteTime": {
     "end_time": "2023-12-11T17:39:02.476281Z",
     "start_time": "2023-12-11T17:39:02.455144400Z"
    }
   },
   "id": "fa3bee61efc93ed7"
  },
  {
   "cell_type": "code",
   "execution_count": 4,
   "outputs": [],
   "source": [
    "t1 = np.array(list(dataset['t_actual1'].values()))[~np.isnan(np.array(list(dataset['t_actual1'].values())))]\n",
    "t2 = np.array(list(dataset['t_actual2'].values()))[~np.isnan(np.array(list(dataset['t_actual2'].values())))]\n",
    "t3 = np.array(list(dataset['t_actual3'].values()))[~np.isnan(np.array(list(dataset['t_actual3'].values())))]\n",
    "t4 = np.array(list(dataset['t_actual4'].values()))[~np.isnan(np.array(list(dataset['t_actual4'].values())))]\n",
    "p1 = 100*np.array(list(dataset['druk1'].values()))[~np.isnan(np.array(list(dataset['druk1'].values())))]\n",
    "p2 = 100*np.array(list(dataset['druk2'].values()))[~np.isnan(np.array(list(dataset['druk2'].values())))]\n",
    "p3 = 100*np.array(list(dataset['druk3'].values()))[~np.isnan(np.array(list(dataset['druk3'].values())))]\n",
    "p4 = 100*np.array(list(dataset['druk4'].values()))[~np.isnan(np.array(list(dataset['druk4'].values())))]"
   ],
   "metadata": {
    "collapsed": false,
    "ExecuteTime": {
     "end_time": "2023-12-11T17:39:03.527922800Z",
     "start_time": "2023-12-11T17:39:03.494203700Z"
    }
   },
   "id": "9c585a12fececbcb"
  },
  {
   "cell_type": "code",
   "execution_count": 5,
   "outputs": [],
   "source": [
    "dt = 0.02\n",
    "dp = 0.05*100 #HPa->Pa\n",
    "pe = 100*100 #HPa->Pa\n",
    "r_kamer = 0.15\n",
    "L_kamer = 0.7\n",
    "V_kamer = np.pi*r_kamer**2*L_kamer"
   ],
   "metadata": {
    "collapsed": false,
    "ExecuteTime": {
     "end_time": "2023-12-11T17:39:05.088784700Z",
     "start_time": "2023-12-11T17:39:05.075700500Z"
    }
   },
   "id": "29a4d764ef32a364"
  },
  {
   "cell_type": "code",
   "execution_count": 7,
   "outputs": [
    {
     "data": {
      "text/plain": "<Figure size 432x288 with 1 Axes>",
      "image/png": "[encoded data removed]"
     },
     "metadata": {
      "needs_background": "light"
     },
     "output_type": "display_data"
    }
   ],
   "source": [
    "plt.errorbar(t1, p1, dp, dt, 'or', label='Geen gasballast', capsize=5)\n",
    "plt.errorbar(t2, p2, dp, dt, 'ob', label='Wel een gasballast', capsize=5)\n",
    "plt.legend()\n",
    "plt.grid()\n",
    "plt.xlabel('Tijd [s]')\n",
    "plt.ylabel('Druk [Pa]')\n",
    "plt.savefig('Proef7 metingen1.pdf', dpi=300, bbox_inches='tight')"
   ],
   "metadata": {
    "collapsed": false,
    "ExecuteTime": {
     "end_time": "2023-12-11T17:39:11.845698200Z",
     "start_time": "2023-12-11T17:39:11.267681700Z"
    }
   },
   "id": "578d3b2e2606f8d4"
  },
  {
   "cell_type": "code",
   "execution_count": 10,
   "outputs": [],
   "source": [
    "popt1, pcov1 = curve_fit(func, t1, p1, p0=(100000, -1))\n",
    "popt1_, pcov1_ = curve_fit(lambda t, a, b: a*t+b, t1, np.log10(p1), p0=(100000, -1))\n",
    "popt2, pcov2 = curve_fit(func, t2, p2, p0=(100000, -1))\n",
    "popt2_, pcov2_ = curve_fit(lambda t, a, b: a*t+b, t2, np.log10(p2), p0=(100000, -1))\n",
    "popt3, pcov3 = curve_fit(func, t3, p3-pe, p0=(100000, -1))\n",
    "popt3_, pcov3_ = curve_fit(lambda t, a, b: a*t+b, t3, np.log10(p3-pe), p0=(100000, -1))\n",
    "popt4, pcov4 = curve_fit(func, t4, p4-pe, p0=(100000, -1))\n",
    "popt4_, pcov4_ = curve_fit(lambda t, a, b: a*t+b, t4, np.log10(p4-pe), p0=(100000, -1))"
   ],
   "metadata": {
    "collapsed": false,
    "ExecuteTime": {
     "end_time": "2023-12-11T17:40:08.544992Z",
     "start_time": "2023-12-11T17:40:08.516305200Z"
    }
   },
   "id": "30605c6dacab3df3"
  },
  {
   "cell_type": "code",
   "execution_count": 11,
   "outputs": [
    {
     "name": "stdout",
     "output_type": "stream",
     "text": [
      "[-0.00788639  4.99698298] [-0.00799299  4.99976014] [-0.00743947  4.93056604] [-0.00735934  4.93006836]\n"
     ]
    }
   ],
   "source": [
    "print(popt1_, popt2_, popt3_, popt4_)"
   ],
   "metadata": {
    "collapsed": false,
    "ExecuteTime": {
     "end_time": "2023-12-11T17:40:09.546234900Z",
     "start_time": "2023-12-11T17:40:09.530647600Z"
    }
   },
   "id": "247a12d9488efaf6"
  },
  {
   "cell_type": "code",
   "execution_count": 12,
   "outputs": [
    {
     "data": {
      "text/plain": "<Figure size 432x288 with 1 Axes>",
      "image/png": "[encoded data removed]"
     },
     "metadata": {
      "needs_background": "light"
     },
     "output_type": "display_data"
    }
   ],
   "source": [
    "plt.errorbar(t1, p1, dp, dt, 'or', label='Geen gasballast')\n",
    "plt.plot(t1, func(t1, *popt1), 'r-', label='Fit: a=%5.3f, b=%5.3f' % tuple(popt1_))\n",
    "plt.errorbar(t2, p2, dp, dt, 'ob', label='Wel een gasballast')\n",
    "plt.plot(t2, func(t2, *popt2), 'b-', label='Fit: a=%5.3f, b=%5.3f' % tuple(popt2_))\n",
    "plt.legend()\n",
    "plt.semilogy()\n",
    "plt.xlabel('Tijd [s]')\n",
    "plt.ylabel('Logaritme van de druk min de einddruk [Pa]')\n",
    "plt.grid()\n",
    "plt.savefig('Proef7 metingen2.pdf', dpi=300, bbox_inches='tight')\n"
   ],
   "metadata": {
    "collapsed": false,
    "ExecuteTime": {
     "end_time": "2023-12-11T17:40:17.946929900Z",
     "start_time": "2023-12-11T17:40:16.611132400Z"
    }
   },
   "id": "1da127112ba4417b"
  },
  {
   "cell_type": "code",
   "execution_count": 13,
   "outputs": [
    {
     "data": {
      "text/plain": "<Figure size 432x288 with 1 Axes>",
      "image/png": "[encoded data removed]"
     },
     "metadata": {
      "needs_background": "light"
     },
     "output_type": "display_data"
    }
   ],
   "source": [
    "plt.errorbar(t3, p3-pe, dp, dt, 'or', label='Geen gasballast')\n",
    "plt.plot(t3, func(t3, *popt3), 'r-', label='Fit: a=%5.3f, b=%5.3f' % tuple(popt3_))\n",
    "plt.errorbar(t4, p4-pe, dp, dt, 'ob', label='Wel een gasballast')\n",
    "plt.plot(t4, func(t4, *popt4), 'b-', label='Fit: a=%5.3f, b=%5.3f' % tuple(popt4_))\n",
    "plt.legend()\n",
    "plt.semilogy()\n",
    "plt.xlabel('Tijd [s]')\n",
    "plt.ylabel('Druk min de einddruk [Pa]')\n",
    "plt.grid()\n",
    "plt.savefig('Proef7 metingen3.pdf', dpi=300, bbox_inches='tight')"
   ],
   "metadata": {
    "collapsed": false,
    "ExecuteTime": {
     "end_time": "2023-12-11T17:40:27.332033500Z",
     "start_time": "2023-12-11T17:40:26.178202100Z"
    }
   },
   "id": "b99b265a62bb91c7"
  },
  {
   "cell_type": "code",
   "execution_count": 14,
   "outputs": [],
   "source": [
    "def find_S(popt_):\n",
    "    return -2.3*V_kamer*popt_[0]"
   ],
   "metadata": {
    "collapsed": false,
    "ExecuteTime": {
     "end_time": "2023-12-11T17:40:41.645289700Z",
     "start_time": "2023-12-11T17:40:41.630201500Z"
    }
   },
   "id": "98e393a40ff003c1"
  },
  {
   "cell_type": "code",
   "execution_count": 15,
   "outputs": [],
   "source": [
    "S1 = find_S(popt1_)\n",
    "S2 = find_S(popt2_)\n",
    "S3 = find_S(popt3_)\n",
    "S4 = find_S(popt4_)"
   ],
   "metadata": {
    "collapsed": false,
    "ExecuteTime": {
     "end_time": "2023-12-11T17:40:42.290268500Z",
     "start_time": "2023-12-11T17:40:42.278696200Z"
    }
   },
   "id": "4659531228bddba2"
  },
  {
   "cell_type": "code",
   "execution_count": 16,
   "outputs": [
    {
     "name": "stdout",
     "output_type": "stream",
     "text": [
      "9.0e-04 9.1e-04 8.5e-04 8.4e-04\n"
     ]
    }
   ],
   "source": [
    "print(\"{:.1e}\".format(S1), \"{:.1e}\".format(S2), \"{:.1e}\".format(S3), \"{:.1e}\".format(S4))"
   ],
   "metadata": {
    "collapsed": false,
    "ExecuteTime": {
     "end_time": "2023-12-11T17:40:42.503670700Z",
     "start_time": "2023-12-11T17:40:42.493607600Z"
    }
   },
   "id": "8c8503998dc81feb"
  },
  {
   "cell_type": "code",
   "execution_count": null,
   "outputs": [],
   "source": [],
   "metadata": {
    "collapsed": false
   },
   "id": "a6b6774242ba9ad0"
  }
 ],
 "metadata": {
  "kernelspec": {
   "display_name": "Python 3",
   "language": "python",
   "name": "python3"
  },
  "language_info": {
   "codemirror_mode": {
    "name": "ipython",
    "version": 2
   },
   "file_extension": ".py",
   "mimetype": "text/x-python",
   "name": "python",
   "nbconvert_exporter": "python",
   "pygments_lexer": "ipython2",
   "version": "2.7.6"
  }
 },
 "nbformat": 4,
 "nbformat_minor": 5
}
